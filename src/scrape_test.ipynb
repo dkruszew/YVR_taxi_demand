{
 "cells": [
  {
   "cell_type": "code",
   "execution_count": 408,
   "metadata": {},
   "outputs": [],
   "source": [
    "import requests\n",
    "from bs4 import BeautifulSoup\n",
    "from selenium import webdriver\n",
    "import pandas as pd\n",
    "import re\n",
    "import numpy as np\n"
   ]
  },
  {
   "cell_type": "code",
   "execution_count": 38,
   "metadata": {},
   "outputs": [],
   "source": [
    "\n",
    "driver = webdriver.Chrome()\n",
    "driver.get('https://www.yvr.ca/en/passengers/flights/arriving-flights')\n",
    "\n",
    "html = driver.page_source\n",
    "soup = BeautifulSoup(html)\n",
    "\n",
    "# check out the docs for the kinds of things you can do with 'find_all'\n",
    "# this (untested) snippet should find tags with a specific class ID\n",
    "# see: http://www.crummy.com/software/BeautifulSoup/bs4/doc/#searching-by-css-class\n",
    "for tag in soup.find_all(\"a\", class_=\"my_class\"):\n",
    "    print(tag.text)"
   ]
  },
  {
   "cell_type": "code",
   "execution_count": 278,
   "metadata": {},
   "outputs": [],
   "source": [
    "#DONE!!!\n",
    "flight_nums = soup.findAll(\"td\", {\"class\": \"yvr-table__cell yvr-flights__flightNumber notranslate\"})\n",
    "airline = soup.findAll(\"td\", {\"class\": \"hidden-until--md yvr-table__cell yvr-table__cell--fade-out yvr-table__cell--nowrap notranslate\"})\n",
    "origins = soup.findAll(\"td\", {\"class\": \"yvr-table__cell yvr-table__cell--fade-out yvr-table__cell--nowrap notranslate\"})\n",
    "raw_rows = soup.tbody.findAll('tr', {'class':'yvr-flights__row'})\n",
    "raw_rows.pop(0)\n",
    "\n",
    "flight_ids = list(map(lambda x: x['id'],raw_rows))\n",
    "flight_nums = list(map(lambda x: x.text, flight_nums))\n",
    "airline = list(map(lambda x: x.text, airline))\n",
    "origins = list(map(lambda x: x.text, origins))"
   ]
  },
  {
   "cell_type": "code",
   "execution_count": 335,
   "metadata": {},
   "outputs": [],
   "source": [
    "# TO TROUBLESHOOT\n",
    "\n",
    "scheduled_arr = soup.findAll(['div','time'], {\"class\": [\"yvr-flights__label yvr-flights__revised-label yvr-flights__revised-label--arrived\",\n",
    "                                           \"yvr-flights__label yvr-flights__revised-label yvr-flights__revised-label--delayed\",\n",
    "                                           \"yvr-flights__label yvr-flights__revised-label yvr-flights__revised-label--cancelled\",\n",
    "                                           \"yvr-flights__label yvr-flights__revised-label yvr-flights__revised-label--early\",\n",
    "                                           \"yvr-flights__label yvr-flights__scheduled-label yvr-flights__scheduled-label--str_on_time notranslate\"]})\n",
    "#estimated_arr = soup.findAll(\"td.time\", {\"class\": \"\"})\n",
    "#status = soup.findAll(\"td\", {\"class\": \"yvr-flights__status yvr-flights__status--arrived\"})"
   ]
  },
  {
   "cell_type": "code",
   "execution_count": 384,
   "metadata": {},
   "outputs": [],
   "source": [
    "YVR_arrivals = pd.DataFrame({\"id\": flight_ids, \"flight_number\": flight_nums, \"airline\": airline, \"origin\":origins})"
   ]
  },
  {
   "cell_type": "code",
   "execution_count": 385,
   "metadata": {},
   "outputs": [
    {
     "data": {
      "text/html": [
       "<div>\n",
       "<style scoped>\n",
       "    .dataframe tbody tr th:only-of-type {\n",
       "        vertical-align: middle;\n",
       "    }\n",
       "\n",
       "    .dataframe tbody tr th {\n",
       "        vertical-align: top;\n",
       "    }\n",
       "\n",
       "    .dataframe thead th {\n",
       "        text-align: right;\n",
       "    }\n",
       "</style>\n",
       "<table border=\"1\" class=\"dataframe\">\n",
       "  <thead>\n",
       "    <tr style=\"text-align: right;\">\n",
       "      <th></th>\n",
       "      <th>id</th>\n",
       "      <th>flight_number</th>\n",
       "      <th>airline</th>\n",
       "      <th>origin</th>\n",
       "    </tr>\n",
       "  </thead>\n",
       "  <tbody>\n",
       "    <tr>\n",
       "      <td>2</td>\n",
       "      <td>299767237</td>\n",
       "      <td>UA5754</td>\n",
       "      <td>United Airlines</td>\n",
       "      <td>San Francisco</td>\n",
       "    </tr>\n",
       "    <tr>\n",
       "      <td>3</td>\n",
       "      <td>299766105</td>\n",
       "      <td>WS2061</td>\n",
       "      <td>WestJet</td>\n",
       "      <td>Los Cabos</td>\n",
       "    </tr>\n",
       "    <tr>\n",
       "      <td>4</td>\n",
       "      <td>299765117</td>\n",
       "      <td>AC278</td>\n",
       "      <td>Air Canada</td>\n",
       "      <td>Whitehorse</td>\n",
       "    </tr>\n",
       "  </tbody>\n",
       "</table>\n",
       "</div>"
      ],
      "text/plain": [
       "          id flight_number          airline         origin\n",
       "2  299767237        UA5754  United Airlines  San Francisco\n",
       "3  299766105        WS2061          WestJet      Los Cabos\n",
       "4  299765117         AC278       Air Canada     Whitehorse"
      ]
     },
     "execution_count": 385,
     "metadata": {},
     "output_type": "execute_result"
    }
   ],
   "source": [
    "YVR_arrivals.loc[2:4,:]"
   ]
  },
  {
   "cell_type": "code",
   "execution_count": 336,
   "metadata": {},
   "outputs": [],
   "source": [
    "scheduled_arr = list(map(lambda x: x['datetime'], scheduled_arr))\n",
    "times = pd.DataFrame({\"scheduled\":scheduled_arr})"
   ]
  },
  {
   "cell_type": "code",
   "execution_count": 330,
   "metadata": {},
   "outputs": [
    {
     "data": {
      "text/plain": [
       "(87, 1)"
      ]
     },
     "execution_count": 330,
     "metadata": {},
     "output_type": "execute_result"
    }
   ],
   "source": [
    "times.shape"
   ]
  },
  {
   "cell_type": "code",
   "execution_count": 331,
   "metadata": {},
   "outputs": [
    {
     "data": {
      "text/plain": [
       "(88, 3)"
      ]
     },
     "execution_count": 331,
     "metadata": {},
     "output_type": "execute_result"
    }
   ],
   "source": [
    "YVR_arrivals.shape"
   ]
  },
  {
   "cell_type": "code",
   "execution_count": 333,
   "metadata": {},
   "outputs": [
    {
     "data": {
      "text/html": [
       "<div>\n",
       "<style scoped>\n",
       "    .dataframe tbody tr th:only-of-type {\n",
       "        vertical-align: middle;\n",
       "    }\n",
       "\n",
       "    .dataframe tbody tr th {\n",
       "        vertical-align: top;\n",
       "    }\n",
       "\n",
       "    .dataframe thead th {\n",
       "        text-align: right;\n",
       "    }\n",
       "</style>\n",
       "<table border=\"1\" class=\"dataframe\">\n",
       "  <thead>\n",
       "    <tr style=\"text-align: right;\">\n",
       "      <th></th>\n",
       "      <th>flight_number</th>\n",
       "      <th>airline</th>\n",
       "      <th>origin</th>\n",
       "      <th>scheduled</th>\n",
       "    </tr>\n",
       "  </thead>\n",
       "  <tbody>\n",
       "    <tr>\n",
       "      <td>0</td>\n",
       "      <td>WS717</td>\n",
       "      <td>WestJet</td>\n",
       "      <td>Toronto</td>\n",
       "      <td>2020-02-09T18:23:00-08:00</td>\n",
       "    </tr>\n",
       "    <tr>\n",
       "      <td>1</td>\n",
       "      <td>AS2314</td>\n",
       "      <td>Alaska Airlines</td>\n",
       "      <td>Seattle</td>\n",
       "      <td>2020-02-09T18:33:00-08:00</td>\n",
       "    </tr>\n",
       "    <tr>\n",
       "      <td>2</td>\n",
       "      <td>UA5754</td>\n",
       "      <td>United Airlines</td>\n",
       "      <td>San Francisco</td>\n",
       "      <td>2020-02-09T18:36:00-08:00</td>\n",
       "    </tr>\n",
       "    <tr>\n",
       "      <td>3</td>\n",
       "      <td>WS2061</td>\n",
       "      <td>WestJet</td>\n",
       "      <td>Los Cabos</td>\n",
       "      <td>2020-02-09T18:52:00-08:00</td>\n",
       "    </tr>\n",
       "    <tr>\n",
       "      <td>4</td>\n",
       "      <td>AC278</td>\n",
       "      <td>Air Canada</td>\n",
       "      <td>Whitehorse</td>\n",
       "      <td>2020-02-09T19:00:00-08:00</td>\n",
       "    </tr>\n",
       "    <tr>\n",
       "      <td>...</td>\n",
       "      <td>...</td>\n",
       "      <td>...</td>\n",
       "      <td>...</td>\n",
       "      <td>...</td>\n",
       "    </tr>\n",
       "    <tr>\n",
       "      <td>83</td>\n",
       "      <td>CX865</td>\n",
       "      <td>Cathay Pacific</td>\n",
       "      <td>JFK New York</td>\n",
       "      <td>2020-02-09T23:50:00-08:00</td>\n",
       "    </tr>\n",
       "    <tr>\n",
       "      <td>84</td>\n",
       "      <td>AC1739</td>\n",
       "      <td>Air Canada</td>\n",
       "      <td>Cancun</td>\n",
       "      <td>2020-02-09T23:52:00-08:00</td>\n",
       "    </tr>\n",
       "    <tr>\n",
       "      <td>85</td>\n",
       "      <td>WS2027</td>\n",
       "      <td>WestJet</td>\n",
       "      <td>PuertoVallarta</td>\n",
       "      <td>2020-02-09T23:52:00-08:00</td>\n",
       "    </tr>\n",
       "    <tr>\n",
       "      <td>86</td>\n",
       "      <td>WS1791</td>\n",
       "      <td>WestJet</td>\n",
       "      <td>Las Vegas</td>\n",
       "      <td>2020-02-09T23:59:00-08:00</td>\n",
       "    </tr>\n",
       "    <tr>\n",
       "      <td>87</td>\n",
       "      <td>DL3527</td>\n",
       "      <td>Delta Air Lines</td>\n",
       "      <td>Seattle</td>\n",
       "      <td>NaN</td>\n",
       "    </tr>\n",
       "  </tbody>\n",
       "</table>\n",
       "<p>88 rows × 4 columns</p>\n",
       "</div>"
      ],
      "text/plain": [
       "   flight_number          airline          origin                  scheduled\n",
       "0          WS717          WestJet         Toronto  2020-02-09T18:23:00-08:00\n",
       "1         AS2314  Alaska Airlines         Seattle  2020-02-09T18:33:00-08:00\n",
       "2         UA5754  United Airlines   San Francisco  2020-02-09T18:36:00-08:00\n",
       "3         WS2061          WestJet       Los Cabos  2020-02-09T18:52:00-08:00\n",
       "4          AC278       Air Canada      Whitehorse  2020-02-09T19:00:00-08:00\n",
       "..           ...              ...             ...                        ...\n",
       "83         CX865   Cathay Pacific    JFK New York  2020-02-09T23:50:00-08:00\n",
       "84        AC1739       Air Canada          Cancun  2020-02-09T23:52:00-08:00\n",
       "85        WS2027          WestJet  PuertoVallarta  2020-02-09T23:52:00-08:00\n",
       "86        WS1791          WestJet       Las Vegas  2020-02-09T23:59:00-08:00\n",
       "87        DL3527  Delta Air Lines         Seattle                        NaN\n",
       "\n",
       "[88 rows x 4 columns]"
      ]
     },
     "execution_count": 333,
     "metadata": {},
     "output_type": "execute_result"
    }
   ],
   "source": [
    "pd.concat([YVR_arrivals,times], axis=1)"
   ]
  },
  {
   "cell_type": "code",
   "execution_count": 328,
   "metadata": {},
   "outputs": [],
   "source": [
    "### GET ESTIMATED\n",
    "\n"
   ]
  },
  {
   "cell_type": "code",
   "execution_count": 337,
   "metadata": {},
   "outputs": [
    {
     "data": {
      "text/plain": [
       "<tr class=\"yvr-flights__row yvr-flights__row--earlier yvr-flights__row--hidden yvr-flights__row--arrived\" id=\"299762601\">\n",
       "<td>\n",
       "<time class=\"yvr-flights__label yvr-flights__scheduled-label yvr-flights__scheduled-label--arrived notranslate\" datetime=\"2020-02-09T18:23:00-08:00\">\n",
       "\t\t\t\t\t18:23\n",
       "\t\t\t\t</time>\n",
       "</td>\n",
       "<td class=\"yvr-flights__table-cell--revised notranslate\">\n",
       "<time class=\"yvr-flights__label yvr-flights__revised-label yvr-flights__revised-label--arrived\" datetime=\"2020-02-09T18:23:00-08:00\">\n",
       "\t\t\t\t\t\t\t18:54\n",
       "\t\t\t\t\t\t</time>\n",
       "</td>\n",
       "<td class=\"yvr-table__cell yvr-flights__flightNumber notranslate\">WS717</td>\n",
       "<td class=\"hidden-until--md yvr-table__cell yvr-table__cell--fade-out yvr-table__cell--nowrap notranslate\">WestJet</td>\n",
       "<td class=\"yvr-table__cell yvr-table__cell--fade-out yvr-table__cell--nowrap notranslate\">Toronto</td>\n",
       "<td class=\"hidden-until--md yvr-table__cell yvr-table__cell--nowrap notranslate\">\n",
       "Main\t\t\t\t\n",
       "\t\t\t</td>\n",
       "<td class=\"hidden-until--md yvr-table__cell yvr-table__cell--nowrap notranslate\">B17</td>\n",
       "<td class=\"hidden-until--md yvr-table__cell yvr-table__cell--nowrap\">\n",
       "\t\t\t\t1\n",
       "\t\t\t</td>\n",
       "<td class=\"yvr-flights__table-cell--status yvr-table__cell--nowrap\">\n",
       "<span class=\"yvr-flights__status yvr-flights__status--arrived\">Arrived</span>\n",
       "</td>\n",
       "<td class=\"hidden-until--md yvr-table__cell yvr-table__cell--nowrap\">\n",
       "</td>\n",
       "<td class=\"visible-until--md\">\n",
       "<button class=\"yvr-flights__toggle-flight\">Toggle flight</button>\n",
       "</td>\n",
       "</tr>"
      ]
     },
     "execution_count": 337,
     "metadata": {},
     "output_type": "execute_result"
    }
   ],
   "source": [
    "raw_rows[1]"
   ]
  },
  {
   "cell_type": "code",
   "execution_count": 355,
   "metadata": {},
   "outputs": [],
   "source": [
    "#soup.tbody"
   ]
  },
  {
   "cell_type": "code",
   "execution_count": 383,
   "metadata": {},
   "outputs": [],
   "source": [
    "raw_rows = soup.tbody.findAll('tr', {'class':'yvr-flights__row'})\n",
    "raw_rows.pop(0)\n",
    "flight_ids = list(map(lambda x: x['id'],raw_rows))"
   ]
  },
  {
   "cell_type": "code",
   "execution_count": 386,
   "metadata": {},
   "outputs": [
    {
     "data": {
      "text/plain": [
       "88"
      ]
     },
     "execution_count": 386,
     "metadata": {},
     "output_type": "execute_result"
    }
   ],
   "source": [
    "len(raw_rows)"
   ]
  },
  {
   "cell_type": "code",
   "execution_count": 390,
   "metadata": {},
   "outputs": [
    {
     "data": {
      "text/plain": [
       "'2020-02-09T18:33:00-08:00'"
      ]
     },
     "execution_count": 390,
     "metadata": {},
     "output_type": "execute_result"
    }
   ],
   "source": [
    "raw_rows[1].findAll('time')[0]['datetime']"
   ]
  },
  {
   "cell_type": "code",
   "execution_count": 394,
   "metadata": {},
   "outputs": [],
   "source": [
    "pairs = list(map(lambda x: x.findAll('time'), raw_rows))"
   ]
  },
  {
   "cell_type": "code",
   "execution_count": 396,
   "metadata": {},
   "outputs": [
    {
     "data": {
      "text/plain": [
       "88"
      ]
     },
     "execution_count": 396,
     "metadata": {},
     "output_type": "execute_result"
    }
   ],
   "source": [
    "len(pairs)"
   ]
  },
  {
   "cell_type": "code",
   "execution_count": 402,
   "metadata": {},
   "outputs": [
    {
     "data": {
      "text/plain": [
       "'2020-02-09T18:23:00-08:00'"
      ]
     },
     "execution_count": 402,
     "metadata": {},
     "output_type": "execute_result"
    }
   ],
   "source": [
    "pairs[0][0]['datetime']"
   ]
  },
  {
   "cell_type": "code",
   "execution_count": 399,
   "metadata": {},
   "outputs": [
    {
     "data": {
      "text/plain": [
       "[1, 1]"
      ]
     },
     "execution_count": 399,
     "metadata": {},
     "output_type": "execute_result"
    }
   ],
   "source": [
    "a.append(1)\n",
    "a"
   ]
  },
  {
   "cell_type": "code",
   "execution_count": 409,
   "metadata": {},
   "outputs": [],
   "source": [
    "sched = []\n",
    "est = []\n",
    "for i in pairs:\n",
    "    if len(i) == 2:\n",
    "        sched.append(i[0]['datetime'])\n",
    "        est.append(i[1]['datetime'])\n",
    "        \n",
    "    if len(i) == 1:\n",
    "        sched.append(i[0]['datetime'])\n",
    "        est.append(np.nan)"
   ]
  },
  {
   "cell_type": "code",
   "execution_count": 410,
   "metadata": {},
   "outputs": [
    {
     "data": {
      "text/plain": [
       "88"
      ]
     },
     "execution_count": 410,
     "metadata": {},
     "output_type": "execute_result"
    }
   ],
   "source": [
    "len(sched)"
   ]
  },
  {
   "cell_type": "code",
   "execution_count": 411,
   "metadata": {},
   "outputs": [
    {
     "data": {
      "text/plain": [
       "88"
      ]
     },
     "execution_count": 411,
     "metadata": {},
     "output_type": "execute_result"
    }
   ],
   "source": [
    "len(est)"
   ]
  },
  {
   "cell_type": "code",
   "execution_count": 232,
   "metadata": {},
   "outputs": [
    {
     "data": {
      "text/plain": [
       "51"
      ]
     },
     "execution_count": 232,
     "metadata": {},
     "output_type": "execute_result"
    }
   ],
   "source": [
    "len(soup.findAll(['td','time'], {\"class\":\"yvr-flights__label yvr-flights__scheduled-label yvr-flights__scheduled-label--arrived notranslate\"}))\n",
    "\n"
   ]
  },
  {
   "cell_type": "code",
   "execution_count": 286,
   "metadata": {},
   "outputs": [
    {
     "data": {
      "text/plain": [
       "0"
      ]
     },
     "execution_count": 286,
     "metadata": {},
     "output_type": "execute_result"
    }
   ],
   "source": [
    "len(soup.findAll('td',{'class':\"id\"}))"
   ]
  },
  {
   "cell_type": "code",
   "execution_count": 295,
   "metadata": {},
   "outputs": [
    {
     "data": {
      "text/plain": [
       "47"
      ]
     },
     "execution_count": 295,
     "metadata": {},
     "output_type": "execute_result"
    }
   ],
   "source": [
    "len(soup.tbody.findAll('tr', {\"class\":\"yvr-flights__row yvr-flights__row--earlier yvr-flights__row--hidden yvr-flights__row--arrived\"}))"
   ]
  },
  {
   "cell_type": "code",
   "execution_count": 231,
   "metadata": {},
   "outputs": [
    {
     "data": {
      "text/plain": [
       "87"
      ]
     },
     "execution_count": 231,
     "metadata": {},
     "output_type": "execute_result"
    }
   ],
   "source": [
    "len(soup.findAll(['div','time'], {\"class\": [\"yvr-flights__label yvr-flights__revised-label yvr-flights__revised-label--arrived\",\n",
    "                                           \"yvr-flights__label yvr-flights__revised-label yvr-flights__revised-label--delayed\",\n",
    "                                           \"yvr-flights__label yvr-flights__revised-label yvr-flights__revised-label--cancelled\",\n",
    "                                           \"yvr-flights__label yvr-flights__revised-label yvr-flights__revised-label--early\",\n",
    "                                           \"yvr-flights__label yvr-flights__scheduled-label yvr-flights__scheduled-label--str_on_time notranslate\"]}))"
   ]
  },
  {
   "cell_type": "code",
   "execution_count": 273,
   "metadata": {},
   "outputs": [
    {
     "ename": "AttributeError",
     "evalue": "ResultSet object has no attribute 'get_text'. You're probably treating a list of items like a single item. Did you call find_all() when you meant to call find()?",
     "output_type": "error",
     "traceback": [
      "\u001b[0;31m---------------------------------------------------------------------------\u001b[0m",
      "\u001b[0;31mAttributeError\u001b[0m                            Traceback (most recent call last)",
      "\u001b[0;32m<ipython-input-273-ea286e24bb40>\u001b[0m in \u001b[0;36m<module>\u001b[0;34m\u001b[0m\n\u001b[1;32m      3\u001b[0m                                            \u001b[0;34m\"yvr-flights__label yvr-flights__revised-label yvr-flights__revised-label--cancelled\"\u001b[0m\u001b[0;34m,\u001b[0m\u001b[0;34m\u001b[0m\u001b[0;34m\u001b[0m\u001b[0m\n\u001b[1;32m      4\u001b[0m                                            \u001b[0;34m\"yvr-flights__label yvr-flights__revised-label yvr-flights__revised-label--early\"\u001b[0m\u001b[0;34m,\u001b[0m\u001b[0;34m\u001b[0m\u001b[0;34m\u001b[0m\u001b[0m\n\u001b[0;32m----> 5\u001b[0;31m                                            \"yvr-flights__label yvr-flights__scheduled-label yvr-flights__scheduled-label--str_on_time notranslate\"]}).get_text()\n\u001b[0m",
      "\u001b[0;32m~/anaconda3/lib/python3.7/site-packages/bs4/element.py\u001b[0m in \u001b[0;36m__getattr__\u001b[0;34m(self, key)\u001b[0m\n\u001b[1;32m   1576\u001b[0m     \u001b[0;32mdef\u001b[0m \u001b[0m__getattr__\u001b[0m\u001b[0;34m(\u001b[0m\u001b[0mself\u001b[0m\u001b[0;34m,\u001b[0m \u001b[0mkey\u001b[0m\u001b[0;34m)\u001b[0m\u001b[0;34m:\u001b[0m\u001b[0;34m\u001b[0m\u001b[0;34m\u001b[0m\u001b[0m\n\u001b[1;32m   1577\u001b[0m         raise AttributeError(\n\u001b[0;32m-> 1578\u001b[0;31m             \u001b[0;34m\"ResultSet object has no attribute '%s'. You're probably treating a list of items like a single item. Did you call find_all() when you meant to call find()?\"\u001b[0m \u001b[0;34m%\u001b[0m \u001b[0mkey\u001b[0m\u001b[0;34m\u001b[0m\u001b[0;34m\u001b[0m\u001b[0m\n\u001b[0m\u001b[1;32m   1579\u001b[0m         )\n",
      "\u001b[0;31mAttributeError\u001b[0m: ResultSet object has no attribute 'get_text'. You're probably treating a list of items like a single item. Did you call find_all() when you meant to call find()?"
     ]
    }
   ],
   "source": [
    "soup.find_all(['div','time'], {\"class\": [\"yvr-flights__label yvr-flights__revised-label yvr-flights__revised-label--arrived\",\n",
    "                                           \"yvr-flights__label yvr-flights__revised-label yvr-flights__revised-label--delayed\",\n",
    "                                           \"yvr-flights__label yvr-flights__revised-label yvr-flights__revised-label--cancelled\",\n",
    "                                           \"yvr-flights__label yvr-flights__revised-label yvr-flights__revised-label--early\",\n",
    "                                           \"yvr-flights__label yvr-flights__scheduled-label yvr-flights__scheduled-label--str_on_time notranslate\"]}).get_text()\n"
   ]
  },
  {
   "cell_type": "code",
   "execution_count": null,
   "metadata": {},
   "outputs": [],
   "source": [
    "soup.findAll(['div','time'], {\"class\": [\"yvr-flights__label yvr-flights__revised-label yvr-flights__revised-label--arrived\",\n",
    "                                           \"yvr-flights__label yvr-flights__revised-label yvr-flights__revised-label--delayed\",\n",
    "                                           \"yvr-flights__label yvr-flights__revised-label yvr-flights__revised-label--cancelled\",\n",
    "                                           \"yvr-flights__label yvr-flights__revised-label yvr-flights__revised-label--early\",\n",
    "                                           \"yvr-flights__label yvr-flights__scheduled-label yvr-flights__scheduled-label--str_on_time notranslate\"]})\n"
   ]
  },
  {
   "cell_type": "code",
   "execution_count": 238,
   "metadata": {},
   "outputs": [
    {
     "data": {
      "text/plain": [
       "51"
      ]
     },
     "execution_count": 238,
     "metadata": {},
     "output_type": "execute_result"
    }
   ],
   "source": [
    "len(soup.findAll(['div', 'time'], {'class': [\"yvr-flights__label yvr-flights__scheduled-label yvr-flights__scheduled-label--arrived notranslate\",\n",
    "                                            \"\",\n",
    "                                            \"\",\n",
    "                                            \"\",\n",
    "                                            \"\"]}))\n",
    "    \n",
    "    "
   ]
  },
  {
   "cell_type": "code",
   "execution_count": null,
   "metadata": {},
   "outputs": [],
   "source": []
  },
  {
   "cell_type": "code",
   "execution_count": null,
   "metadata": {},
   "outputs": [],
   "source": []
  },
  {
   "cell_type": "code",
   "execution_count": null,
   "metadata": {},
   "outputs": [],
   "source": []
  },
  {
   "cell_type": "code",
   "execution_count": null,
   "metadata": {},
   "outputs": [],
   "source": []
  }
 ],
 "metadata": {
  "kernelspec": {
   "display_name": "Python 3",
   "language": "python",
   "name": "python3"
  },
  "language_info": {
   "codemirror_mode": {
    "name": "ipython",
    "version": 3
   },
   "file_extension": ".py",
   "mimetype": "text/x-python",
   "name": "python",
   "nbconvert_exporter": "python",
   "pygments_lexer": "ipython3",
   "version": "3.7.4"
  }
 },
 "nbformat": 4,
 "nbformat_minor": 4
}
