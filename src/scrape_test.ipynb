{
 "cells": [
  {
   "cell_type": "code",
   "execution_count": 14,
   "metadata": {},
   "outputs": [],
   "source": [
    "import requests\n",
    "from bs4 import BeautifulSoup\n",
    "from selenium import webdriver\n",
    "import pandas as pd\n",
    "import numpy as np\n",
    "from datetime import datetime\n"
   ]
  },
  {
   "cell_type": "code",
   "execution_count": 2,
   "metadata": {},
   "outputs": [],
   "source": [
    "\n",
    "driver = webdriver.Chrome()\n",
    "driver.get('https://www.yvr.ca/en/passengers/flights/arriving-flights')\n",
    "\n",
    "html = driver.page_source\n",
    "soup = BeautifulSoup(html)\n",
    "\n",
    "for tag in soup.find_all(\"a\", class_=\"my_class\"):\n",
    "    print(tag.text)"
   ]
  },
  {
   "cell_type": "code",
   "execution_count": 7,
   "metadata": {},
   "outputs": [],
   "source": [
    "# Direct tag/class fileters for flight numbers, airline and origin\n",
    "flight_nums = soup.findAll(\"td\", {\"class\": \"yvr-table__cell yvr-flights__flightNumber notranslate\"})\n",
    "airline = soup.findAll(\"td\", {\"class\": \"hidden-until--md yvr-table__cell yvr-table__cell--fade-out yvr-table__cell--nowrap notranslate\"})\n",
    "origins = soup.findAll(\"td\", {\"class\": \"yvr-table__cell yvr-table__cell--fade-out yvr-table__cell--nowrap notranslate\"})\n",
    "\n",
    "# Collect row data\n",
    "raw_rows = soup.tbody.findAll('tr', {'class':'yvr-flights__row'})\n",
    "raw_rows.pop(0)\n",
    "\n",
    "#Each row contains at least the scheduled arrival time or a pair of times\n",
    "pairs = list(map(lambda x: x.findAll('time'), raw_rows))\n",
    "sched = []\n",
    "est = []\n",
    "for i in pairs:\n",
    "    if len(i) == 2:\n",
    "        sched.append(i[0]['datetime'])\n",
    "        est.append(i[1]['datetime'])\n",
    "        \n",
    "    if len(i) == 1:\n",
    "        sched.append(i[0]['datetime'])\n",
    "        est.append(np.nan)\n",
    "\n",
    "flight_ids = list(map(lambda x: x['id'],raw_rows))\n",
    "flight_nums = list(map(lambda x: x.text, flight_nums))\n",
    "airline = list(map(lambda x: x.text, airline))\n",
    "origins = list(map(lambda x: x.text, origins))"
   ]
  },
  {
   "cell_type": "code",
   "execution_count": 8,
   "metadata": {},
   "outputs": [],
   "source": [
    "#Create dataframe\n",
    "\n",
    "YVR_arrivals = pd.DataFrame({\"id\": flight_ids,\n",
    "                             \"sched\": sched,\n",
    "                             \"estimated\": est,\n",
    "                             \"flight_number\": flight_nums, \n",
    "                             \"airline\": airline, \n",
    "                             \"origin\":origins})"
   ]
  },
  {
   "cell_type": "code",
   "execution_count": 9,
   "metadata": {},
   "outputs": [
    {
     "data": {
      "text/html": [
       "<div>\n",
       "<style scoped>\n",
       "    .dataframe tbody tr th:only-of-type {\n",
       "        vertical-align: middle;\n",
       "    }\n",
       "\n",
       "    .dataframe tbody tr th {\n",
       "        vertical-align: top;\n",
       "    }\n",
       "\n",
       "    .dataframe thead th {\n",
       "        text-align: right;\n",
       "    }\n",
       "</style>\n",
       "<table border=\"1\" class=\"dataframe\">\n",
       "  <thead>\n",
       "    <tr style=\"text-align: right;\">\n",
       "      <th></th>\n",
       "      <th>id</th>\n",
       "      <th>sched</th>\n",
       "      <th>estimated</th>\n",
       "      <th>flight_number</th>\n",
       "      <th>airline</th>\n",
       "      <th>origin</th>\n",
       "    </tr>\n",
       "  </thead>\n",
       "  <tbody>\n",
       "    <tr>\n",
       "      <td>2</td>\n",
       "      <td>299835271</td>\n",
       "      <td>2020-02-10T10:35:00-08:00</td>\n",
       "      <td>2020-02-10T10:35:00-08:00</td>\n",
       "      <td>AC64</td>\n",
       "      <td>Air Canada</td>\n",
       "      <td>Seoul-Incheon</td>\n",
       "    </tr>\n",
       "    <tr>\n",
       "      <td>3</td>\n",
       "      <td>299834153</td>\n",
       "      <td>2020-02-10T10:36:00-08:00</td>\n",
       "      <td>2020-02-10T10:36:00-08:00</td>\n",
       "      <td>AC8060</td>\n",
       "      <td>Air Canada</td>\n",
       "      <td>Victoria</td>\n",
       "    </tr>\n",
       "    <tr>\n",
       "      <td>4</td>\n",
       "      <td>299836056</td>\n",
       "      <td>2020-02-10T10:40:00-08:00</td>\n",
       "      <td>2020-02-10T10:40:00-08:00</td>\n",
       "      <td>WS3321</td>\n",
       "      <td>WestJet</td>\n",
       "      <td>Kelowna</td>\n",
       "    </tr>\n",
       "  </tbody>\n",
       "</table>\n",
       "</div>"
      ],
      "text/plain": [
       "          id                      sched                  estimated  \\\n",
       "2  299835271  2020-02-10T10:35:00-08:00  2020-02-10T10:35:00-08:00   \n",
       "3  299834153  2020-02-10T10:36:00-08:00  2020-02-10T10:36:00-08:00   \n",
       "4  299836056  2020-02-10T10:40:00-08:00  2020-02-10T10:40:00-08:00   \n",
       "\n",
       "  flight_number     airline         origin  \n",
       "2          AC64  Air Canada  Seoul-Incheon  \n",
       "3        AC8060  Air Canada       Victoria  \n",
       "4        WS3321     WestJet        Kelowna  "
      ]
     },
     "execution_count": 9,
     "metadata": {},
     "output_type": "execute_result"
    }
   ],
   "source": [
    "YVR_arrivals.loc[2:4,:]"
   ]
  },
  {
   "cell_type": "code",
   "execution_count": 34,
   "metadata": {},
   "outputs": [],
   "source": [
    "date_stamp =str(datetime.date(datetime.now()))\n",
    "YVR_arrivals.to_csv('../data/arrivals_'+date_stamp+'.csv')"
   ]
  }
 ],
 "metadata": {
  "kernelspec": {
   "display_name": "Python 3",
   "language": "python",
   "name": "python3"
  },
  "language_info": {
   "codemirror_mode": {
    "name": "ipython",
    "version": 3
   },
   "file_extension": ".py",
   "mimetype": "text/x-python",
   "name": "python",
   "nbconvert_exporter": "python",
   "pygments_lexer": "ipython3",
   "version": "3.7.4"
  }
 },
 "nbformat": 4,
 "nbformat_minor": 4
}
